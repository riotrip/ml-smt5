{
  "nbformat": 4,
  "nbformat_minor": 0,
  "metadata": {
    "colab": {
      "provenance": [],
      "authorship_tag": "ABX9TyPjb/vyIg1kE1qcoPKp9sQT",
      "include_colab_link": true
    },
    "kernelspec": {
      "name": "python3",
      "display_name": "Python 3"
    },
    "language_info": {
      "name": "python"
    }
  },
  "cells": [
    {
      "cell_type": "markdown",
      "metadata": {
        "id": "view-in-github",
        "colab_type": "text"
      },
      "source": [
        "<a href=\"https://colab.research.google.com/github/riotrip/ml-smt5/blob/main/TG1_2_3_JS09.ipynb\" target=\"_parent\"><img src=\"https://colab.research.google.com/assets/colab-badge.svg\" alt=\"Open In Colab\"/></a>"
      ]
    },
    {
      "cell_type": "markdown",
      "source": [
        "# **Rio Tri Prayogo - 2341720236 - TI 3F/25**\n",
        "---\n",
        "## **JS09 - Regresi**"
      ],
      "metadata": {
        "id": "bl1XVaZuKFsA"
      }
    },
    {
      "cell_type": "markdown",
      "source": [
        "### Tugas Praktikum"
      ],
      "metadata": {
        "id": "T0TVpj1yx9hB"
      }
    },
    {
      "cell_type": "markdown",
      "source": [
        "**Instruksi Umum:**\n",
        "\n",
        "1. Anda akan menggunakan dataset \"Medical Cost Personal Datasets\". Pastikan Anda telah mengunduh dataset ini.\n",
        "2. Gunakan bahasa pemrograman Python dan library yang sesuai seperti NumPy, Pandas, Matplotlib dan Scikit-Learn untuk melakukan analisis regresi dan SVR."
      ],
      "metadata": {
        "id": "CMPaooFix_6Y"
      }
    },
    {
      "cell_type": "markdown",
      "source": [
        "**Tugas**\n",
        "\n",
        "1. Identifikasi variabel-variabel yang akan digunakan sebagai variabel bebas (fitur) dan variabel target (biaya medis personal).\n",
        "2. Bagi dataset menjadi data latih (train) dan data uji (test) dengan proporsi yang sesuai.\n",
        "3. Lakukan feature scaling jika diperlukan.\n",
        "4. Buat model multiple linear regression menggunakan Scikit-Learn.\n",
        "5. Latih model pada data latih dan lakukan prediksi pada data uji.\n",
        "6. Evaluasi model dengan menghitung metrik seperti R-squared, MSE, dan MAE. Tampilkan hasil evaluasi.\n",
        "7. Ulagi langkah 4 dengan menggunakan model SVR. Anda dapat bereksperimen dengan dengan melakukan hyperparameter tunning."
      ],
      "metadata": {
        "id": "SadTzpjGyGFZ"
      }
    },
    {
      "cell_type": "markdown",
      "source": [
        "**Catatan Tambahan**\n",
        "\n",
        "- Pastikan untuk memberikan penjelasan singkat tentang dataset yang digunakan, termasuk deskripsi variabel-variabel yang relevan.\n",
        "- Tampilkan visualisasi data yang relevan seperti scatter plot atau grafik lainnya jika diperlukan untuk pemahaman yang lebih baik.\n",
        "- Analisis hasil yang Anda dapatkan dalam tugas praktikum Anda."
      ],
      "metadata": {
        "id": "GBqqVKibyPcS"
      }
    }
  ]
}