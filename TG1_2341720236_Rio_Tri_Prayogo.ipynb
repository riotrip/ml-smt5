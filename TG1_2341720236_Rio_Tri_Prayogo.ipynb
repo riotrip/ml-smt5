{
  "nbformat": 4,
  "nbformat_minor": 0,
  "metadata": {
    "colab": {
      "provenance": [],
      "authorship_tag": "ABX9TyPpTDPgbJ0IZdgR0k3nLIlr",
      "include_colab_link": true
    },
    "kernelspec": {
      "name": "python3",
      "display_name": "Python 3"
    },
    "language_info": {
      "name": "python"
    }
  },
  "cells": [
    {
      "cell_type": "markdown",
      "metadata": {
        "id": "view-in-github",
        "colab_type": "text"
      },
      "source": [
        "<a href=\"https://colab.research.google.com/github/riotrip/ml-smt5/blob/main/TG1_2341720236_Rio_Tri_Prayogo.ipynb\" target=\"_parent\"><img src=\"https://colab.research.google.com/assets/colab-badge.svg\" alt=\"Open In Colab\"/></a>"
      ]
    },
    {
      "cell_type": "markdown",
      "source": [
        "**Tugas 1**"
      ],
      "metadata": {
        "id": "nTZ6QSYzjhER"
      }
    },
    {
      "cell_type": "markdown",
      "source": [
        "# Bagian 1"
      ],
      "metadata": {
        "id": "cy3yUO8AmObI"
      }
    },
    {
      "cell_type": "markdown",
      "source": [
        "## Instalasi Library"
      ],
      "metadata": {
        "id": "MaAMCtORliJc"
      }
    },
    {
      "cell_type": "markdown",
      "source": [
        "### Instalasi library PyPREP"
      ],
      "metadata": {
        "id": "kG1fpZvejx35"
      }
    },
    {
      "cell_type": "code",
      "source": [
        "!pip install pyprep"
      ],
      "metadata": {
        "colab": {
          "base_uri": "https://localhost:8080/"
        },
        "id": "4LOOZUmCcTWZ",
        "outputId": "97a1db1b-9e10-4368-f763-deb37104178f"
      },
      "execution_count": 8,
      "outputs": [
        {
          "output_type": "stream",
          "name": "stdout",
          "text": [
            "Requirement already satisfied: pyprep in /usr/local/lib/python3.12/dist-packages (0.5.0)\n",
            "Requirement already satisfied: mne>=1.3.0 in /usr/local/lib/python3.12/dist-packages (from pyprep) (1.10.1)\n",
            "Requirement already satisfied: numpy>=1.20.2 in /usr/local/lib/python3.12/dist-packages (from pyprep) (2.0.2)\n",
            "Requirement already satisfied: psutil>=5.4.3 in /usr/local/lib/python3.12/dist-packages (from pyprep) (5.9.5)\n",
            "Requirement already satisfied: scipy>=1.6.3 in /usr/local/lib/python3.12/dist-packages (from pyprep) (1.16.1)\n",
            "Requirement already satisfied: decorator in /usr/local/lib/python3.12/dist-packages (from mne>=1.3.0->pyprep) (4.4.2)\n",
            "Requirement already satisfied: jinja2 in /usr/local/lib/python3.12/dist-packages (from mne>=1.3.0->pyprep) (3.1.6)\n",
            "Requirement already satisfied: lazy-loader>=0.3 in /usr/local/lib/python3.12/dist-packages (from mne>=1.3.0->pyprep) (0.4)\n",
            "Requirement already satisfied: matplotlib>=3.7 in /usr/local/lib/python3.12/dist-packages (from mne>=1.3.0->pyprep) (3.10.0)\n",
            "Requirement already satisfied: packaging in /usr/local/lib/python3.12/dist-packages (from mne>=1.3.0->pyprep) (25.0)\n",
            "Requirement already satisfied: pooch>=1.5 in /usr/local/lib/python3.12/dist-packages (from mne>=1.3.0->pyprep) (1.8.2)\n",
            "Requirement already satisfied: tqdm in /usr/local/lib/python3.12/dist-packages (from mne>=1.3.0->pyprep) (4.67.1)\n",
            "Requirement already satisfied: contourpy>=1.0.1 in /usr/local/lib/python3.12/dist-packages (from matplotlib>=3.7->mne>=1.3.0->pyprep) (1.3.3)\n",
            "Requirement already satisfied: cycler>=0.10 in /usr/local/lib/python3.12/dist-packages (from matplotlib>=3.7->mne>=1.3.0->pyprep) (0.12.1)\n",
            "Requirement already satisfied: fonttools>=4.22.0 in /usr/local/lib/python3.12/dist-packages (from matplotlib>=3.7->mne>=1.3.0->pyprep) (4.59.1)\n",
            "Requirement already satisfied: kiwisolver>=1.3.1 in /usr/local/lib/python3.12/dist-packages (from matplotlib>=3.7->mne>=1.3.0->pyprep) (1.4.9)\n",
            "Requirement already satisfied: pillow>=8 in /usr/local/lib/python3.12/dist-packages (from matplotlib>=3.7->mne>=1.3.0->pyprep) (11.3.0)\n",
            "Requirement already satisfied: pyparsing>=2.3.1 in /usr/local/lib/python3.12/dist-packages (from matplotlib>=3.7->mne>=1.3.0->pyprep) (3.2.3)\n",
            "Requirement already satisfied: python-dateutil>=2.7 in /usr/local/lib/python3.12/dist-packages (from matplotlib>=3.7->mne>=1.3.0->pyprep) (2.9.0.post0)\n",
            "Requirement already satisfied: platformdirs>=2.5.0 in /usr/local/lib/python3.12/dist-packages (from pooch>=1.5->mne>=1.3.0->pyprep) (4.3.8)\n",
            "Requirement already satisfied: requests>=2.19.0 in /usr/local/lib/python3.12/dist-packages (from pooch>=1.5->mne>=1.3.0->pyprep) (2.32.4)\n",
            "Requirement already satisfied: MarkupSafe>=2.0 in /usr/local/lib/python3.12/dist-packages (from jinja2->mne>=1.3.0->pyprep) (3.0.2)\n",
            "Requirement already satisfied: six>=1.5 in /usr/local/lib/python3.12/dist-packages (from python-dateutil>=2.7->matplotlib>=3.7->mne>=1.3.0->pyprep) (1.17.0)\n",
            "Requirement already satisfied: charset_normalizer<4,>=2 in /usr/local/lib/python3.12/dist-packages (from requests>=2.19.0->pooch>=1.5->mne>=1.3.0->pyprep) (3.4.3)\n",
            "Requirement already satisfied: idna<4,>=2.5 in /usr/local/lib/python3.12/dist-packages (from requests>=2.19.0->pooch>=1.5->mne>=1.3.0->pyprep) (3.10)\n",
            "Requirement already satisfied: urllib3<3,>=1.21.1 in /usr/local/lib/python3.12/dist-packages (from requests>=2.19.0->pooch>=1.5->mne>=1.3.0->pyprep) (2.5.0)\n",
            "Requirement already satisfied: certifi>=2017.4.17 in /usr/local/lib/python3.12/dist-packages (from requests>=2.19.0->pooch>=1.5->mne>=1.3.0->pyprep) (2025.8.3)\n",
            "Requirement already satisfied: pyprep in /usr/local/lib/python3.12/dist-packages (0.5.0)\n",
            "Requirement already satisfied: mne>=1.3.0 in /usr/local/lib/python3.12/dist-packages (from pyprep) (1.10.1)\n",
            "Requirement already satisfied: numpy>=1.20.2 in /usr/local/lib/python3.12/dist-packages (from pyprep) (2.0.2)\n",
            "Requirement already satisfied: psutil>=5.4.3 in /usr/local/lib/python3.12/dist-packages (from pyprep) (5.9.5)\n",
            "Requirement already satisfied: scipy>=1.6.3 in /usr/local/lib/python3.12/dist-packages (from pyprep) (1.16.1)\n",
            "Requirement already satisfied: decorator in /usr/local/lib/python3.12/dist-packages (from mne>=1.3.0->pyprep) (4.4.2)\n",
            "Requirement already satisfied: jinja2 in /usr/local/lib/python3.12/dist-packages (from mne>=1.3.0->pyprep) (3.1.6)\n",
            "Requirement already satisfied: lazy-loader>=0.3 in /usr/local/lib/python3.12/dist-packages (from mne>=1.3.0->pyprep) (0.4)\n",
            "Requirement already satisfied: matplotlib>=3.7 in /usr/local/lib/python3.12/dist-packages (from mne>=1.3.0->pyprep) (3.10.0)\n",
            "Requirement already satisfied: packaging in /usr/local/lib/python3.12/dist-packages (from mne>=1.3.0->pyprep) (25.0)\n",
            "Requirement already satisfied: pooch>=1.5 in /usr/local/lib/python3.12/dist-packages (from mne>=1.3.0->pyprep) (1.8.2)\n",
            "Requirement already satisfied: tqdm in /usr/local/lib/python3.12/dist-packages (from mne>=1.3.0->pyprep) (4.67.1)\n",
            "Requirement already satisfied: contourpy>=1.0.1 in /usr/local/lib/python3.12/dist-packages (from matplotlib>=3.7->mne>=1.3.0->pyprep) (1.3.3)\n",
            "Requirement already satisfied: cycler>=0.10 in /usr/local/lib/python3.12/dist-packages (from matplotlib>=3.7->mne>=1.3.0->pyprep) (0.12.1)\n",
            "Requirement already satisfied: fonttools>=4.22.0 in /usr/local/lib/python3.12/dist-packages (from matplotlib>=3.7->mne>=1.3.0->pyprep) (4.59.1)\n",
            "Requirement already satisfied: kiwisolver>=1.3.1 in /usr/local/lib/python3.12/dist-packages (from matplotlib>=3.7->mne>=1.3.0->pyprep) (1.4.9)\n",
            "Requirement already satisfied: pillow>=8 in /usr/local/lib/python3.12/dist-packages (from matplotlib>=3.7->mne>=1.3.0->pyprep) (11.3.0)\n",
            "Requirement already satisfied: pyparsing>=2.3.1 in /usr/local/lib/python3.12/dist-packages (from matplotlib>=3.7->mne>=1.3.0->pyprep) (3.2.3)\n",
            "Requirement already satisfied: python-dateutil>=2.7 in /usr/local/lib/python3.12/dist-packages (from matplotlib>=3.7->mne>=1.3.0->pyprep) (2.9.0.post0)\n",
            "Requirement already satisfied: platformdirs>=2.5.0 in /usr/local/lib/python3.12/dist-packages (from pooch>=1.5->mne>=1.3.0->pyprep) (4.3.8)\n",
            "Requirement already satisfied: requests>=2.19.0 in /usr/local/lib/python3.12/dist-packages (from pooch>=1.5->mne>=1.3.0->pyprep) (2.32.4)\n",
            "Requirement already satisfied: MarkupSafe>=2.0 in /usr/local/lib/python3.12/dist-packages (from jinja2->mne>=1.3.0->pyprep) (3.0.2)\n",
            "Requirement already satisfied: six>=1.5 in /usr/local/lib/python3.12/dist-packages (from python-dateutil>=2.7->matplotlib>=3.7->mne>=1.3.0->pyprep) (1.17.0)\n",
            "Requirement already satisfied: charset_normalizer<4,>=2 in /usr/local/lib/python3.12/dist-packages (from requests>=2.19.0->pooch>=1.5->mne>=1.3.0->pyprep) (3.4.3)\n",
            "Requirement already satisfied: idna<4,>=2.5 in /usr/local/lib/python3.12/dist-packages (from requests>=2.19.0->pooch>=1.5->mne>=1.3.0->pyprep) (3.10)\n",
            "Requirement already satisfied: urllib3<3,>=1.21.1 in /usr/local/lib/python3.12/dist-packages (from requests>=2.19.0->pooch>=1.5->mne>=1.3.0->pyprep) (2.5.0)\n",
            "Requirement already satisfied: certifi>=2017.4.17 in /usr/local/lib/python3.12/dist-packages (from requests>=2.19.0->pooch>=1.5->mne>=1.3.0->pyprep) (2025.8.3)\n"
          ]
        }
      ]
    },
    {
      "cell_type": "markdown",
      "source": [
        "### Instalasi library Scipy"
      ],
      "metadata": {
        "id": "yb_bGRCwj5ZF"
      }
    },
    {
      "cell_type": "code",
      "source": [
        "!pip install scipy"
      ],
      "metadata": {
        "colab": {
          "base_uri": "https://localhost:8080/"
        },
        "id": "nrrvfxgicZWz",
        "outputId": "f9e891f2-4067-4ed4-eb89-26945357fda0"
      },
      "execution_count": 7,
      "outputs": [
        {
          "output_type": "stream",
          "name": "stdout",
          "text": [
            "Requirement already satisfied: scipy in /usr/local/lib/python3.12/dist-packages (1.16.1)\n",
            "Requirement already satisfied: numpy<2.6,>=1.25.2 in /usr/local/lib/python3.12/dist-packages (from scipy) (2.0.2)\n"
          ]
        }
      ]
    },
    {
      "cell_type": "markdown",
      "source": [
        "### Installasi library wandb"
      ],
      "metadata": {
        "id": "JJ3EU8VjkOlA"
      }
    },
    {
      "cell_type": "code",
      "source": [
        "!pip install wandb"
      ],
      "metadata": {
        "colab": {
          "base_uri": "https://localhost:8080/"
        },
        "id": "Zuhvn0AuceK_",
        "outputId": "e55938ad-a5d5-4dd4-ae07-fbeaa94d1a4f"
      },
      "execution_count": 9,
      "outputs": [
        {
          "output_type": "stream",
          "name": "stdout",
          "text": [
            "Requirement already satisfied: wandb in /usr/local/lib/python3.12/dist-packages (0.21.1)\n",
            "Requirement already satisfied: click!=8.0.0,>=7.1 in /usr/local/lib/python3.12/dist-packages (from wandb) (8.2.1)\n",
            "Requirement already satisfied: gitpython!=3.1.29,>=1.0.0 in /usr/local/lib/python3.12/dist-packages (from wandb) (3.1.45)\n",
            "Requirement already satisfied: packaging in /usr/local/lib/python3.12/dist-packages (from wandb) (25.0)\n",
            "Requirement already satisfied: platformdirs in /usr/local/lib/python3.12/dist-packages (from wandb) (4.3.8)\n",
            "Requirement already satisfied: protobuf!=4.21.0,!=5.28.0,<7,>=3.19.0 in /usr/local/lib/python3.12/dist-packages (from wandb) (5.29.5)\n",
            "Requirement already satisfied: pydantic<3 in /usr/local/lib/python3.12/dist-packages (from wandb) (2.11.7)\n",
            "Requirement already satisfied: pyyaml in /usr/local/lib/python3.12/dist-packages (from wandb) (6.0.2)\n",
            "Requirement already satisfied: requests<3,>=2.0.0 in /usr/local/lib/python3.12/dist-packages (from wandb) (2.32.4)\n",
            "Requirement already satisfied: sentry-sdk>=2.0.0 in /usr/local/lib/python3.12/dist-packages (from wandb) (2.35.0)\n",
            "Requirement already satisfied: typing-extensions<5,>=4.8 in /usr/local/lib/python3.12/dist-packages (from wandb) (4.15.0)\n",
            "Requirement already satisfied: gitdb<5,>=4.0.1 in /usr/local/lib/python3.12/dist-packages (from gitpython!=3.1.29,>=1.0.0->wandb) (4.0.12)\n",
            "Requirement already satisfied: annotated-types>=0.6.0 in /usr/local/lib/python3.12/dist-packages (from pydantic<3->wandb) (0.7.0)\n",
            "Requirement already satisfied: pydantic-core==2.33.2 in /usr/local/lib/python3.12/dist-packages (from pydantic<3->wandb) (2.33.2)\n",
            "Requirement already satisfied: typing-inspection>=0.4.0 in /usr/local/lib/python3.12/dist-packages (from pydantic<3->wandb) (0.4.1)\n",
            "Requirement already satisfied: charset_normalizer<4,>=2 in /usr/local/lib/python3.12/dist-packages (from requests<3,>=2.0.0->wandb) (3.4.3)\n",
            "Requirement already satisfied: idna<4,>=2.5 in /usr/local/lib/python3.12/dist-packages (from requests<3,>=2.0.0->wandb) (3.10)\n",
            "Requirement already satisfied: urllib3<3,>=1.21.1 in /usr/local/lib/python3.12/dist-packages (from requests<3,>=2.0.0->wandb) (2.5.0)\n",
            "Requirement already satisfied: certifi>=2017.4.17 in /usr/local/lib/python3.12/dist-packages (from requests<3,>=2.0.0->wandb) (2025.8.3)\n",
            "Requirement already satisfied: smmap<6,>=3.0.1 in /usr/local/lib/python3.12/dist-packages (from gitdb<5,>=4.0.1->gitpython!=3.1.29,>=1.0.0->wandb) (5.0.2)\n"
          ]
        }
      ]
    },
    {
      "cell_type": "markdown",
      "source": [
        "### Instalasi library pyECG"
      ],
      "metadata": {
        "id": "ixjjUddekOjG"
      }
    },
    {
      "cell_type": "code",
      "execution_count": 1,
      "metadata": {
        "id": "9UvLkjocbMZK",
        "colab": {
          "base_uri": "https://localhost:8080/"
        },
        "outputId": "03e4fcf5-5cdc-4980-8a84-749414e80b9e"
      },
      "outputs": [
        {
          "output_type": "stream",
          "name": "stdout",
          "text": [
            "Collecting pyECG\n",
            "  Downloading pyECG-0.0.9.1-py2.py3-none-any.whl.metadata (3.1 kB)\n",
            "Collecting ishneholterlib==2017.4.11 (from pyECG)\n",
            "  Downloading ishneholterlib-2017.4.11.tar.gz (7.0 kB)\n",
            "  Preparing metadata (setup.py) ... \u001b[?25l\u001b[?25hdone\n",
            "Requirement already satisfied: numpy in /usr/local/lib/python3.12/dist-packages (from pyECG) (2.0.2)\n",
            "Collecting wfdb==2.2.1 (from pyECG)\n",
            "  Downloading wfdb-2.2.1.tar.gz (94 kB)\n",
            "\u001b[2K     \u001b[90m━━━━━━━━━━━━━━━━━━━━━━━━━━━━━━━━━━━━━━━━\u001b[0m \u001b[32m94.9/94.9 kB\u001b[0m \u001b[31m4.2 MB/s\u001b[0m eta \u001b[36m0:00:00\u001b[0m\n",
            "\u001b[?25h  Preparing metadata (setup.py) ... \u001b[?25l\u001b[?25hdone\n",
            "Requirement already satisfied: pytest in /usr/local/lib/python3.12/dist-packages (from pyECG) (8.4.1)\n",
            "Collecting pytest-cov (from pyECG)\n",
            "  Downloading pytest_cov-6.2.1-py3-none-any.whl.metadata (30 kB)\n",
            "Collecting PyCRC (from ishneholterlib==2017.4.11->pyECG)\n",
            "  Downloading pycrc-0.11.0-py3-none-any.whl.metadata (2.7 kB)\n",
            "Collecting nose>=1.3.7 (from wfdb==2.2.1->pyECG)\n",
            "  Downloading nose-1.3.7-py3-none-any.whl.metadata (1.7 kB)\n",
            "Requirement already satisfied: matplotlib>=1.5.1 in /usr/local/lib/python3.12/dist-packages (from wfdb==2.2.1->pyECG) (3.10.0)\n",
            "Requirement already satisfied: requests>=2.10.0 in /usr/local/lib/python3.12/dist-packages (from wfdb==2.2.1->pyECG) (2.32.4)\n",
            "Requirement already satisfied: pandas>=0.19.1 in /usr/local/lib/python3.12/dist-packages (from wfdb==2.2.1->pyECG) (2.2.2)\n",
            "Requirement already satisfied: scipy>=0.19.0 in /usr/local/lib/python3.12/dist-packages (from wfdb==2.2.1->pyECG) (1.16.1)\n",
            "Collecting sklearn>=0.0 (from wfdb==2.2.1->pyECG)\n",
            "  Downloading sklearn-0.0.post12.tar.gz (2.6 kB)\n",
            "  \u001b[1;31merror\u001b[0m: \u001b[1msubprocess-exited-with-error\u001b[0m\n",
            "  \n",
            "  \u001b[31m×\u001b[0m \u001b[32mpython setup.py egg_info\u001b[0m did not run successfully.\n",
            "  \u001b[31m│\u001b[0m exit code: \u001b[1;36m1\u001b[0m\n",
            "  \u001b[31m╰─>\u001b[0m See above for output.\n",
            "  \n",
            "  \u001b[1;35mnote\u001b[0m: This error originates from a subprocess, and is likely not a problem with pip.\n",
            "  Preparing metadata (setup.py) ... \u001b[?25l\u001b[?25herror\n",
            "\u001b[1;31merror\u001b[0m: \u001b[1mmetadata-generation-failed\u001b[0m\n",
            "\n",
            "\u001b[31m×\u001b[0m Encountered error while generating package metadata.\n",
            "\u001b[31m╰─>\u001b[0m See above for output.\n",
            "\n",
            "\u001b[1;35mnote\u001b[0m: This is an issue with the package mentioned above, not pip.\n",
            "\u001b[1;36mhint\u001b[0m: See above for details.\n"
          ]
        }
      ],
      "source": [
        "!pip install pyECG"
      ]
    },
    {
      "cell_type": "markdown",
      "source": [
        "Untuk instalasi pyECG mengalami sebuah error dikarenakan library pyECG sendiri hanya mendukung versi python maksimal Python 3.6, hal ini bisa diatasi dengan menggunakan alternatif berupa NeuroKit2.\n",
        "\n",
        "### Instalasi library NeuroKit2"
      ],
      "metadata": {
        "id": "OfBySy6Wkk9-"
      }
    },
    {
      "cell_type": "code",
      "source": [
        "!pip install neurokit2"
      ],
      "metadata": {
        "id": "KF_6BnRKkxmL",
        "outputId": "48ee8521-f156-42f5-f202-ca2718eec61c",
        "colab": {
          "base_uri": "https://localhost:8080/"
        }
      },
      "execution_count": 1,
      "outputs": [
        {
          "output_type": "stream",
          "name": "stdout",
          "text": [
            "Collecting neurokit2\n",
            "  Downloading neurokit2-0.2.12-py2.py3-none-any.whl.metadata (37 kB)\n",
            "Requirement already satisfied: requests in /usr/local/lib/python3.12/dist-packages (from neurokit2) (2.32.4)\n",
            "Requirement already satisfied: numpy in /usr/local/lib/python3.12/dist-packages (from neurokit2) (2.0.2)\n",
            "Requirement already satisfied: pandas in /usr/local/lib/python3.12/dist-packages (from neurokit2) (2.2.2)\n",
            "Requirement already satisfied: scipy in /usr/local/lib/python3.12/dist-packages (from neurokit2) (1.16.1)\n",
            "Requirement already satisfied: scikit-learn>=1.0.0 in /usr/local/lib/python3.12/dist-packages (from neurokit2) (1.6.1)\n",
            "Requirement already satisfied: matplotlib>=3.5.0 in /usr/local/lib/python3.12/dist-packages (from neurokit2) (3.10.0)\n",
            "Requirement already satisfied: PyWavelets>=1.4.0 in /usr/local/lib/python3.12/dist-packages (from neurokit2) (1.9.0)\n",
            "Requirement already satisfied: contourpy>=1.0.1 in /usr/local/lib/python3.12/dist-packages (from matplotlib>=3.5.0->neurokit2) (1.3.3)\n",
            "Requirement already satisfied: cycler>=0.10 in /usr/local/lib/python3.12/dist-packages (from matplotlib>=3.5.0->neurokit2) (0.12.1)\n",
            "Requirement already satisfied: fonttools>=4.22.0 in /usr/local/lib/python3.12/dist-packages (from matplotlib>=3.5.0->neurokit2) (4.59.1)\n",
            "Requirement already satisfied: kiwisolver>=1.3.1 in /usr/local/lib/python3.12/dist-packages (from matplotlib>=3.5.0->neurokit2) (1.4.9)\n",
            "Requirement already satisfied: packaging>=20.0 in /usr/local/lib/python3.12/dist-packages (from matplotlib>=3.5.0->neurokit2) (25.0)\n",
            "Requirement already satisfied: pillow>=8 in /usr/local/lib/python3.12/dist-packages (from matplotlib>=3.5.0->neurokit2) (11.3.0)\n",
            "Requirement already satisfied: pyparsing>=2.3.1 in /usr/local/lib/python3.12/dist-packages (from matplotlib>=3.5.0->neurokit2) (3.2.3)\n",
            "Requirement already satisfied: python-dateutil>=2.7 in /usr/local/lib/python3.12/dist-packages (from matplotlib>=3.5.0->neurokit2) (2.9.0.post0)\n",
            "Requirement already satisfied: joblib>=1.2.0 in /usr/local/lib/python3.12/dist-packages (from scikit-learn>=1.0.0->neurokit2) (1.5.1)\n",
            "Requirement already satisfied: threadpoolctl>=3.1.0 in /usr/local/lib/python3.12/dist-packages (from scikit-learn>=1.0.0->neurokit2) (3.6.0)\n",
            "Requirement already satisfied: pytz>=2020.1 in /usr/local/lib/python3.12/dist-packages (from pandas->neurokit2) (2025.2)\n",
            "Requirement already satisfied: tzdata>=2022.7 in /usr/local/lib/python3.12/dist-packages (from pandas->neurokit2) (2025.2)\n",
            "Requirement already satisfied: charset_normalizer<4,>=2 in /usr/local/lib/python3.12/dist-packages (from requests->neurokit2) (3.4.3)\n",
            "Requirement already satisfied: idna<4,>=2.5 in /usr/local/lib/python3.12/dist-packages (from requests->neurokit2) (3.10)\n",
            "Requirement already satisfied: urllib3<3,>=1.21.1 in /usr/local/lib/python3.12/dist-packages (from requests->neurokit2) (2.5.0)\n",
            "Requirement already satisfied: certifi>=2017.4.17 in /usr/local/lib/python3.12/dist-packages (from requests->neurokit2) (2025.8.3)\n",
            "Requirement already satisfied: six>=1.5 in /usr/local/lib/python3.12/dist-packages (from python-dateutil>=2.7->matplotlib>=3.5.0->neurokit2) (1.17.0)\n",
            "Downloading neurokit2-0.2.12-py2.py3-none-any.whl (708 kB)\n",
            "\u001b[2K   \u001b[90m━━━━━━━━━━━━━━━━━━━━━━━━━━━━━━━━━━━━━━━━\u001b[0m \u001b[32m708.4/708.4 kB\u001b[0m \u001b[31m16.7 MB/s\u001b[0m eta \u001b[36m0:00:00\u001b[0m\n",
            "\u001b[?25hInstalling collected packages: neurokit2\n",
            "Successfully installed neurokit2-0.2.12\n"
          ]
        }
      ]
    },
    {
      "cell_type": "markdown",
      "source": [
        "## Kegunaan masing-masing library\n",
        "\n",
        "\n",
        "*   pyprep merupakan library Python yang dikembangkan untuk melakukan preprocessing pada sinyal EEG (Elektroensefalogram) yang mampu secara otomatis mendeteksi dan menghapus bad channels, serta membersihkan noise dan artefak yang sering muncul pada rekaman EEG, misalnya akibat kedipan mata atau gerakan otot.\n",
        "*   scipy merupakan library Python berfungsi untuk komputasi ilmiah yang menyediakan berbagai fungsi matematika dan statistika, termasuk integrasi, optimisasi, aljabar linear, serta pemrosesan sinyal seperti filtering dan transformasi Fourier.\n",
        "*   wandb (Weight & Biases) adalah platform untuk melacak, memvisualisasikan, dan membandingkan eksperimen pembelajaran mesin. Platform ini menyediakan fitur untuk mencatat metadata eksperimen parameter, metrik, dan hasil yang penting dalam proses pengembangan model pembelajaran mesin iteratif.\n",
        "*   pyECG adalah library yang berfokus pada pengolahan sinyal ECG (Electrodiagram) yang mana menyediakan pipeline untuk membaca, memproses, dan mengekstrak fitur dari sinyal jantung.\n",
        "\n",
        "\n",
        "\n"
      ],
      "metadata": {
        "id": "aLp7uqF_k444"
      }
    },
    {
      "cell_type": "markdown",
      "source": [
        "# Bagian 2"
      ],
      "metadata": {
        "id": "op5yj4gqmISA"
      }
    },
    {
      "cell_type": "markdown",
      "source": [
        "### Berikan contoh tentang tindakan melanggar etika dan hukum tentang penggunaan kecerdasan buatan. Sertakan referensi yang digunakan.\n",
        "\n",
        "Microsoft merumuskan enam prinsip dalam pengembangan kecerdasan buatan (AI) yang disebut [Responsible AI Principles](https://www.microsoft.com/en-us/ai/principles-and-approach). Prinsip ini terdiri dari fairness, reliability and safety, privacy and security, inclusiveness, transparency, serta accountability. Namun, dalam praktiknya sering muncul pelanggaran etika maupun hukum ketika AI tidak digunakan secara bertanggung jawab, seperti contohnya:\n",
        "\n",
        "1. Fairness → Sistem AI harus memperlakukan semua orang sama\n",
        "Pelanggaran etika terjadi ketika sebuah sistem AI didesain atau dilatih dengan data yang bias, sehingga menghasilkan output yang diskriminatif terhadap kelompok tertentu, seperti berdasarkan suku, agama, atau gender. Secara hukum, tindakan ini dapat melanggar UU No. 40/2008 tentang Penghapusan Diskriminasi Ras dan Etnis.\n",
        "2.\tReliability and safety → Sistem AI harus bekerja secara reliabel dan memberikan proteksi terhadap bahaya (safety)\n",
        "Kegagalan sistem AI yang menyebabkan kerusakan properti, cedera, atau bahkan hilangnya nyawa seperti dalam sebuah kendaraan autopilot yang mengalami kesalahan pada saat dikendarai di jalan raya. Jika sistem yang gagal tersebut dikategorikan sebagai produk cacat yang diperdagangkan, pelaku usaha juga dapat dipersalahkan berdasarkan UU No. 8/1999 tentang Perlindungan Konsumen.\n",
        "3.\tPrivacy and security → Sistem AI harus aman dan menghormati privasi\n",
        "Pelanggaran etika terjadi ketika data pribadi seseorang dikumpulkan, diproses, atau dianalisis tanpa persetujuan yang sah dan transparan dari pengguna tersebut yang nantinya digunakan untuk melatih sebuah AI, hal ini melanggar UU PDP No. 27/2022 tentang Perlindungan Data Pribadi (UU PDP).\n",
        "4.\tInclusiveness → Sistem AI harus memfasilitasi semua kalangan tanpa membedakan latar belakangnya\n",
        "Pelanggaran etika terwujud ketika produk atau layanan berbasis AI tidak dapat diakses dan dimanfaatkan oleh seluruh kalangan masyarakat, termasuk penyandang disabilitas. Hal ini kemudian menjadi pelanggaran hukum karena melanggar UU No. 8/2016 tentang Penyandang Disabilitas\n",
        "5.\tTransparency → Sistem AI harus dapat dipahami - Explainable AI (XAI)\n",
        "Pelanggaran terjadi ketika suatu sistem AI tidak dapat menjelaskan alasan di balik suatu keputusan ataupun jawaban yang diberikan sehingga tidak dapat dipahami alur berfikir dari AI tersebut. Hal ini membuat konsumen tidak mendapatkan atas informasi yang jelas sesuai dengan UU No. 8/1999 tentang Perlindungan Konsumen.\n",
        "6.\tAccountability → Manusia harus bertanggung jawab terhadap sistem AI\n",
        "Pelanggaran etika terjadi ketika sebuah sistem AI tidak memiliki mekanisme pengendalian dari manusia yang jelas dalam pengoprasiannya yang nantinya akan dapat menimbulkan sebuah ujaran kebencian dari AI tersendiri. Hal ini tentunya melanggar hukum UU ITE Pasal 28 ayat (2) tentang Ujaran Kebencian.\n",
        "\n"
      ],
      "metadata": {
        "id": "KXSDSyM7mWku"
      }
    },
    {
      "cell_type": "markdown",
      "source": [
        "### Berikan contoh tentang dampak energi dan lingkungan terhadap pemanfaatan kecerdasan buatan dan bagaimana cara mengatasinya (Anda dapat memberikan pendapat pribadi). Sertakan referensi yang digunakan.\n",
        "\n",
        "Kecerdasan buatan sering kali memerlukan sumber daya komputasi yang sangat besar, terutama dalam melatih model machine learning berskala besar seperti deep learning. Hal ini berdampak pada konsumsi energi yang tinggi dan jejak karbon yang signifikan. Dengan konsumsi energi terutama yang cukup besar juga emisi CO2, tentunya juga lambat laun akan berdampak pada lingkungan sekitar. Adapun cara untuk mengatasi hal tersebut diantaranya adalah dengan meregulasi konsumsi energi yang nantinya akan menghasilkan emisi, dengan regulasi ini tentunya akan meminimalisir kerusakan lingkungan yang akan ditimbulkan. Juga perusahaan AI sendiri diharuskan berpartisipasi dalam carbon credit sehingga emisi karbon yang dihasilkan dapat merata dan terkendali."
      ],
      "metadata": {
        "id": "9BrV1t8Qm6eR"
      }
    }
  ]
}