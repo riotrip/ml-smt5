{
  "nbformat": 4,
  "nbformat_minor": 0,
  "metadata": {
    "colab": {
      "provenance": [],
      "mount_file_id": "1u58rh5_1A_jor5x4lWmDEY2vU7kTXlIj",
      "authorship_tag": "ABX9TyPeeST4wU+J0VriE8WfQlAQ",
      "include_colab_link": true
    },
    "kernelspec": {
      "name": "python3",
      "display_name": "Python 3"
    },
    "language_info": {
      "name": "python"
    }
  },
  "cells": [
    {
      "cell_type": "markdown",
      "metadata": {
        "id": "view-in-github",
        "colab_type": "text"
      },
      "source": [
        "<a href=\"https://colab.research.google.com/github/riotrip/ml-smt5/blob/main/TG1_JS03.ipynb\" target=\"_parent\"><img src=\"https://colab.research.google.com/assets/colab-badge.svg\" alt=\"Open In Colab\"/></a>"
      ]
    },
    {
      "cell_type": "markdown",
      "source": [
        "# **Tugas Praktikum JS 03**\n",
        "## **Rio Tri Prayogo/2341720236/TI 3F**\n",
        "\n",
        "Pada tugas pratikum ini Anda akan menggunakan data \"Wisconsin Breast Cancer\". Data tersebut terdiri dari 569 data yang digunakan untuk mendiagnonis jenis kanker Malignant (M) dan Benign (B). Tugas Anda adalah,\n",
        "\n",
        "1. Pisahkan antara variabel yang dapat digunakan dan variabel yang tidak dapat digunakan.\n",
        "2. Lakukan proses encoding pada kolom \"diagnosis\".\n",
        "3. Lakukan proses standardisasi pada semua kolom yang memiliki nilai numerik.\n",
        "4. Lakukan proses seleksi fitur. Anda dapat menggunakan SelectKBest.\n",
        "5. Lakukan proses pengujian dengan model Logistic Regression seperti pada praktikum 1.\n",
        "6. Anda dapat menggunakan model pipeline untuk mempermudah perkejaan Anda.\n",
        "7. Berdasarkan hasil analisa Anda, berapa jumlah fitur terbaik yang dapat digunakan? Apa saja fitur tersebut?"
      ],
      "metadata": {
        "id": "wp4-un4jgSiY"
      }
    },
    {
      "cell_type": "markdown",
      "source": [
        "### Import library dan data wbc.csv"
      ],
      "metadata": {
        "id": "WD_z0DwiJd3n"
      }
    },
    {
      "cell_type": "code",
      "execution_count": 23,
      "metadata": {
        "id": "uVTAeFQEffDW"
      },
      "outputs": [],
      "source": [
        "import pandas as pd\n",
        "import numpy as np\n",
        "from sklearn.model_selection import train_test_split\n",
        "from sklearn.compose import ColumnTransformer\n",
        "from sklearn.preprocessing import OneHotEncoder, StandardScaler, LabelEncoder\n",
        "from sklearn.pipeline import Pipeline\n",
        "from sklearn.impute import SimpleImputer\n",
        "from sklearn.linear_model import LogisticRegression\n",
        "from sklearn.feature_selection import chi2, SelectKBest, RFE, f_classif\n",
        "from sklearn.metrics import accuracy_score, classification_report"
      ]
    },
    {
      "cell_type": "code",
      "source": [
        "df = pd.read_csv(\"/content/drive/MyDrive/PembelajaranMesin_Rio/docs/wbc.csv\")"
      ],
      "metadata": {
        "id": "HHKJ2rhQf_aT"
      },
      "execution_count": 24,
      "outputs": []
    },
    {
      "cell_type": "markdown",
      "source": [
        "### Memisahkan variabel yang dapat digunakan dan variabel yang tidak dapat digunakan.\n",
        "\n",
        "Pemisahan menggunakan iloc, dengan mengambil index variabel yang dapat digunakan saja. Variabel 'id' dan 'Unnamed: 32' tidak digunakan dan bertepatan diposisi awal dan akhir sehingga diisi 1:-1 pada bagian iloc"
      ],
      "metadata": {
        "id": "3VDEMSe4Jnx2"
      }
    },
    {
      "cell_type": "code",
      "source": [
        "X = df.iloc[:, 1:-1]\n",
        "y = df['diagnosis']"
      ],
      "metadata": {
        "id": "HTmCpk9PhyPk"
      },
      "execution_count": 25,
      "outputs": []
    },
    {
      "cell_type": "markdown",
      "source": [
        "### Melakukan proses encoding pada kolom \"diagnosis\".\n",
        "\n",
        " Encoding kolom diagnosis yang semula berisi label berupa huruf M (Malignant) dan B (Benign), akan diubah menjadi nilai numerik berupa 1 untuk M dan 0 untuk B."
      ],
      "metadata": {
        "id": "wmk2jP2TJzvq"
      }
    },
    {
      "cell_type": "code",
      "source": [
        "le = LabelEncoder()\n",
        "y_encoded = le.fit_transform(y)"
      ],
      "metadata": {
        "id": "As_tGD7gh2uw"
      },
      "execution_count": 26,
      "outputs": []
    },
    {
      "cell_type": "markdown",
      "source": [
        "### Melakukan proses standardisasi pada semua kolom yang memiliki nilai numerik.\n",
        "\n",
        "Function select_dtypes untuk memastikan hanya kolom numerik yang diproses, yaitu kolom dengan tipe data float64 dan int64. Lalu akan disimpan di variabel num_cols yang nantinya akan di standarisasi menggunakan fit_transform. Penggunaan df2 berfungsi untuk membuat sebuah copy() dari data sehingga tidak akan mengubah data asli."
      ],
      "metadata": {
        "id": "vVw8Zpg7J1oU"
      }
    },
    {
      "cell_type": "code",
      "source": [
        "num_cols = X.select_dtypes(include=['float64', 'int64']).columns.tolist()"
      ],
      "metadata": {
        "id": "-xZZjpTziDPS"
      },
      "execution_count": 27,
      "outputs": []
    },
    {
      "cell_type": "code",
      "source": [
        "num_tf = Pipeline([\n",
        "    (\"imputer\", SimpleImputer(strategy=\"median\")),\n",
        "    (\"scaler\", StandardScaler())\n",
        "])"
      ],
      "metadata": {
        "id": "bA4u4_hyD8rO"
      },
      "execution_count": 28,
      "outputs": []
    },
    {
      "cell_type": "code",
      "source": [
        "preprocess = ColumnTransformer([\n",
        "    (\"num\", num_tf, num_cols),\n",
        "])"
      ],
      "metadata": {
        "id": "ki6jX_aDGdzP"
      },
      "execution_count": 29,
      "outputs": []
    },
    {
      "cell_type": "code",
      "source": [
        "selector_filter = SelectKBest(score_func=f_classif, k=9)\n",
        "\n",
        "pipe_filter = Pipeline([\n",
        "    (\"prep\", preprocess),\n",
        "    (\"sel\", selector_filter),\n",
        "    (\"clf\", LogisticRegression(max_iter=1000, random_state=42))\n",
        "])"
      ],
      "metadata": {
        "id": "Ex3Ld0YbGf5V"
      },
      "execution_count": 55,
      "outputs": []
    },
    {
      "cell_type": "code",
      "source": [
        "X_train, X_test, y_train, y_test = train_test_split(X, y_encoded, stratify=y_encoded, test_size=0.2, random_state=42)\n",
        "\n",
        "# Fit dan evaluasi model\n",
        "pipe_filter.fit(X_train, y_train)\n",
        "pred = pipe_filter.predict(X_test)\n",
        "\n",
        "print(\"=== Wisconsin Breast Cancer Dataset ===\")\n",
        "print(\"=== Filter (ANOVA) + Logistic Regression ===\")\n",
        "print(\"Accuracy:\", accuracy_score(y_test, pred))\n",
        "print(classification_report(y_test, pred, target_names=['Benign (B)', 'Malignant (M)']))"
      ],
      "metadata": {
        "colab": {
          "base_uri": "https://localhost:8080/"
        },
        "id": "XuPumdzxGkY3",
        "outputId": "3eed15ef-ecd3-4c66-9a97-7c0a57faae1b"
      },
      "execution_count": 56,
      "outputs": [
        {
          "output_type": "stream",
          "name": "stdout",
          "text": [
            "=== Wisconsin Breast Cancer Dataset ===\n",
            "=== Filter (ANOVA) + Logistic Regression ===\n",
            "Accuracy: 0.9736842105263158\n",
            "               precision    recall  f1-score   support\n",
            "\n",
            "   Benign (B)       0.97      0.99      0.98        72\n",
            "Malignant (M)       0.98      0.95      0.96        42\n",
            "\n",
            "     accuracy                           0.97       114\n",
            "    macro avg       0.97      0.97      0.97       114\n",
            " weighted avg       0.97      0.97      0.97       114\n",
            "\n"
          ]
        }
      ]
    },
    {
      "cell_type": "code",
      "source": [
        "# 1) Nama fitur setelah preprocess\n",
        "feat_names = pipe_filter.named_steps[\"prep\"].get_feature_names_out()\n",
        "print(\"Nama fitur:\", feat_names)\n",
        "print(\"\\n\")\n",
        "\n",
        "# 2) Mask & skor fitur terpilih (SelectKBest)\n",
        "sel = pipe_filter.named_steps[\"sel\"]\n",
        "mask = sel.get_support()\n",
        "selected_names = feat_names[mask]\n",
        "selected_scores = sel.scores_[mask]\n",
        "top = sorted(zip(selected_names, selected_scores), key=lambda t: t[1], reverse=True)\n",
        "print(\"Top fitur:\", top)"
      ],
      "metadata": {
        "colab": {
          "base_uri": "https://localhost:8080/"
        },
        "id": "batIk9foIfFc",
        "outputId": "d31a1518-3ec2-4eef-de3d-4481f55303ac"
      },
      "execution_count": 58,
      "outputs": [
        {
          "output_type": "stream",
          "name": "stdout",
          "text": [
            "Nama fitur: ['num__radius_mean' 'num__texture_mean' 'num__perimeter_mean'\n",
            " 'num__area_mean' 'num__smoothness_mean' 'num__compactness_mean'\n",
            " 'num__concavity_mean' 'num__concave points_mean' 'num__symmetry_mean'\n",
            " 'num__fractal_dimension_mean' 'num__radius_se' 'num__texture_se'\n",
            " 'num__perimeter_se' 'num__area_se' 'num__smoothness_se'\n",
            " 'num__compactness_se' 'num__concavity_se' 'num__concave points_se'\n",
            " 'num__symmetry_se' 'num__fractal_dimension_se' 'num__radius_worst'\n",
            " 'num__texture_worst' 'num__perimeter_worst' 'num__area_worst'\n",
            " 'num__smoothness_worst' 'num__compactness_worst' 'num__concavity_worst'\n",
            " 'num__concave points_worst' 'num__symmetry_worst'\n",
            " 'num__fractal_dimension_worst']\n",
            "\n",
            "\n",
            "Top fitur: [('num__concave points_worst', np.float64(733.7249325739482)), ('num__perimeter_worst', np.float64(717.2464871041376)), ('num__radius_worst', np.float64(692.861395260564)), ('num__concave points_mean', np.float64(684.5268452011383)), ('num__perimeter_mean', np.float64(548.4132358502825)), ('num__area_worst', np.float64(522.1889466673214)), ('num__radius_mean', np.float64(511.27484784479856)), ('num__area_mean', np.float64(444.8575181970795)), ('num__concavity_mean', np.float64(397.5920817649993))]\n"
          ]
        }
      ]
    }
  ]
}